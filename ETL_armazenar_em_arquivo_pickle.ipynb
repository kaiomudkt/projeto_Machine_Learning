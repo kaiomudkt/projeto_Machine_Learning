{
 "cells": [
  {
   "cell_type": "markdown",
   "metadata": {},
   "source": [
    "# Arquivo Pickle para implantação\n",
    "\n",
    "Sera gerado um arquivo model.pickle, new_model.pickle, tfidf.pickle\n",
    "\n",
    "pickle é uma biblioteca do Python utilizada para serializar e desserializar objetos Python. Ela permite salvar objetos complexos em arquivos binários que podem ser facilmente carregados novamente posteriormente.\n",
    "\n",
    "No contexto de aprendizado de máquina, é comum salvar modelos treinados e outros objetos importantes para que possam ser reutilizados sem a necessidade de treinamento novamente."
   ]
  },
  {
   "cell_type": "code",
   "execution_count": null,
   "metadata": {},
   "outputs": [],
   "source": [
    "import pickle\n",
    "import json"
   ]
  },
  {
   "cell_type": "markdown",
   "metadata": {},
   "source": [
    "Utilizando a biblioteca pickle do Python para salvar três objetos em arquivos binários, com o propósito de armazenar modelos que foram treinados e criados durante o processo de análise de dados ou aprendizado de máquina."
   ]
  },
  {
   "cell_type": "code",
   "execution_count": null,
   "metadata": {},
   "outputs": [],
   "source": [
    "# Class_labels\n",
    "label_data = ['email', 'resume' ,'scientific_publication']"
   ]
  },
  {
   "cell_type": "markdown",
   "metadata": {},
   "source": [
    "Salvando o Modelo de Regressão Logística (model)\n",
    "\n",
    "model é o objeto que representa o modelo treinado de regressão logística.\n",
    "\n",
    "O arquivo \"model.pickle\" conterá todos os parâmetros e configurações do modelo que foram aprendidos durante o treinamento."
   ]
  },
  {
   "cell_type": "code",
   "execution_count": null,
   "metadata": {},
   "outputs": [],
   "source": [
    "with open(\"model.pickle\",\"wb\") as file:\n",
    "    pickle.dump(model,file)"
   ]
  },
  {
   "cell_type": "markdown",
   "metadata": {},
   "source": [
    "Salvando o Objeto TF-IDF (tfidf)\n",
    "\n",
    "tfidf é o objeto da classe TfidfVectorizer que foi utilizado para transformar os dados textuais em representações numéricas usando TF-IDF.\n",
    "\n",
    "O arquivo \"tfidf.pickle\" contém todos os parâmetros e configurações do objeto tfidf, incluindo as palavras-chave aprendidas durante o ajuste."
   ]
  },
  {
   "cell_type": "code",
   "execution_count": null,
   "metadata": {},
   "outputs": [],
   "source": [
    "with open(\"tfidf.pickle\",\"wb\") as file1:\n",
    "    pickle.dump(tfidf,file1)"
   ]
  },
  {
   "cell_type": "markdown",
   "metadata": {},
   "source": [
    "\n",
    "\n",
    "Salvando um Novo Modelo (lg_model):\n",
    "\n",
    "lg_model representa o modelo treinado, modelo de aprendizado de máquina de regressão logística\n",
    "\n",
    "O arquivo \"new_model.pickle\" conterá todos os parâmetros e configurações do lg_model."
   ]
  },
  {
   "cell_type": "code",
   "execution_count": null,
   "metadata": {},
   "outputs": [],
   "source": [
    "with open(\"new_model.pickle\",\"wb\") as file2:\n",
    "    pickle.dump(lg_model,file2)"
   ]
  },
  {
   "cell_type": "markdown",
   "metadata": {},
   "source": [
    "# Implementação do Modelo\n",
    "\n",
    "Implementar o modelo em um ambiente de produção, o que pode envolver a criação de APIs, integração com sistemas existentes, ou implementação em dashboards.\n",
    "\n",
    "# Interpretação e Comunicação dos Resultados\n",
    "\n",
    "Interpretar os resultados da análise ou modelo e comunicar as conclusões de maneira clara e acessível para os stakeholders, utilizando visualizações e relatórios.\n",
    "\n",
    "# Monitoramento e Manutenção \n",
    "\n",
    "Monitorar o desempenho do modelo em produção e realizar manutenção contínua para assegurar que ele continue a funcionar corretamente e se adaptar a mudanças nos dados ou no ambiente."
   ]
  }
 ],
 "metadata": {
  "language_info": {
   "name": "python"
  }
 },
 "nbformat": 4,
 "nbformat_minor": 2
}
